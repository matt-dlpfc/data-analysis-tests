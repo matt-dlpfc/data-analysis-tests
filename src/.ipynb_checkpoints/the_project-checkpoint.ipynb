{
 "cells": [
  {
   "cell_type": "markdown",
   "id": "0c530f7e",
   "metadata": {},
   "source": [
    "Data from \"[List of the Most common English words](https://github.com/dolph/dictionary)\"."
   ]
  },
  {
   "cell_type": "code",
   "execution_count": 2,
   "id": "0e42e718-a018-480f-90dd-75ca2c181849",
   "metadata": {},
   "outputs": [],
   "source": [
    "import pandas as pd\n",
    "import os"
   ]
  },
  {
   "cell_type": "code",
   "execution_count": 3,
   "id": "1ec779d9",
   "metadata": {},
   "outputs": [],
   "source": [
    "with open(\"C:/Users/Matteo/Python-projects/data-analysis-tests/data/project_words/words.txt\", \"r\") as file:\n",
    "    words = file.read().splitlines()"
   ]
  },
  {
   "cell_type": "code",
   "execution_count": 4,
   "id": "c1a200a3",
   "metadata": {},
   "outputs": [],
   "source": [
    "def calculate_value(word):\n",
    "    return sum(ord(char) - ord('a') + 1 for char in word.lower())\n"
   ]
  },
  {
   "cell_type": "code",
   "execution_count": 5,
   "id": "8599e774",
   "metadata": {},
   "outputs": [],
   "source": [
    "df = pd.DataFrame({\n",
    "    'Word': words, \n",
    "    'char_count': [len(word) for word in words],\n",
    "    'Value': [calculate_value(word) for word in words]})\n"
   ]
  },
  {
   "cell_type": "code",
   "execution_count": 6,
   "id": "b0ba5b25",
   "metadata": {},
   "outputs": [],
   "source": [
    "df.set_index('Word', inplace=True) \n",
    "df.to_csv('words.csv') # create the csv "
   ]
  },
  {
   "cell_type": "code",
   "execution_count": 7,
   "id": "825f16b7-0319-4960-8ed4-b8a2472bc1f1",
   "metadata": {},
   "outputs": [],
   "source": [
    "# If you want to upload the csv, here it is\n",
    "# df = pd.read_csv('words.csv', index_col='Word')"
   ]
  },
  {
   "cell_type": "code",
   "execution_count": 8,
   "id": "56c84682",
   "metadata": {},
   "outputs": [
    {
     "data": {
      "text/html": [
       "<div>\n",
       "<style scoped>\n",
       "    .dataframe tbody tr th:only-of-type {\n",
       "        vertical-align: middle;\n",
       "    }\n",
       "\n",
       "    .dataframe tbody tr th {\n",
       "        vertical-align: top;\n",
       "    }\n",
       "\n",
       "    .dataframe thead th {\n",
       "        text-align: right;\n",
       "    }\n",
       "</style>\n",
       "<table border=\"1\" class=\"dataframe\">\n",
       "  <thead>\n",
       "    <tr style=\"text-align: right;\">\n",
       "      <th></th>\n",
       "      <th>char_count</th>\n",
       "      <th>Value</th>\n",
       "    </tr>\n",
       "    <tr>\n",
       "      <th>Word</th>\n",
       "      <th></th>\n",
       "      <th></th>\n",
       "    </tr>\n",
       "  </thead>\n",
       "  <tbody>\n",
       "    <tr>\n",
       "      <th>aa</th>\n",
       "      <td>2</td>\n",
       "      <td>2</td>\n",
       "    </tr>\n",
       "    <tr>\n",
       "      <th>aah</th>\n",
       "      <td>3</td>\n",
       "      <td>10</td>\n",
       "    </tr>\n",
       "    <tr>\n",
       "      <th>aahed</th>\n",
       "      <td>5</td>\n",
       "      <td>19</td>\n",
       "    </tr>\n",
       "    <tr>\n",
       "      <th>aahing</th>\n",
       "      <td>6</td>\n",
       "      <td>40</td>\n",
       "    </tr>\n",
       "    <tr>\n",
       "      <th>aahs</th>\n",
       "      <td>4</td>\n",
       "      <td>29</td>\n",
       "    </tr>\n",
       "  </tbody>\n",
       "</table>\n",
       "</div>"
      ],
      "text/plain": [
       "        char_count  Value\n",
       "Word                     \n",
       "aa               2      2\n",
       "aah              3     10\n",
       "aahed            5     19\n",
       "aahing           6     40\n",
       "aahs             4     29"
      ]
     },
     "execution_count": 8,
     "metadata": {},
     "output_type": "execute_result"
    }
   ],
   "source": [
    "df.head()"
   ]
  },
  {
   "cell_type": "markdown",
   "id": "fdc0cee7-90d6-4675-8583-e323d0b567c4",
   "metadata": {},
   "source": [
    "### How many elements are there in the dataset?"
   ]
  },
  {
   "cell_type": "code",
   "execution_count": 10,
   "id": "fe058ff9",
   "metadata": {},
   "outputs": [
    {
     "data": {
      "text/plain": [
       "Index(['char_count', 'Value'], dtype='object')"
      ]
     },
     "execution_count": 10,
     "metadata": {},
     "output_type": "execute_result"
    }
   ],
   "source": [
    "df.columns # tells me which columns exist and "
   ]
  },
  {
   "cell_type": "code",
   "execution_count": 11,
   "id": "d03279ae-0f5c-40f1-b8dd-a668185a0258",
   "metadata": {},
   "outputs": [
    {
     "data": {
      "text/plain": [
       "<bound method DataFrame.info of            char_count  Value\n",
       "Word                        \n",
       "aa                  2      2\n",
       "aah                 3     10\n",
       "aahed               5     19\n",
       "aahing              6     40\n",
       "aahs                4     29\n",
       "...               ...    ...\n",
       "zymotic             7    111\n",
       "zymurgies           9    143\n",
       "zymurgy             7    135\n",
       "zyzzyva             7    151\n",
       "zyzzyvas            8    170\n",
       "\n",
       "[172823 rows x 2 columns]>"
      ]
     },
     "execution_count": 11,
     "metadata": {},
     "output_type": "execute_result"
    }
   ],
   "source": [
    "df.info # gives me a slightly more exhaustive preview of the dataset (head 5, tail 5, no. rows, no. cols excluding index)"
   ]
  },
  {
   "cell_type": "code",
   "execution_count": 12,
   "id": "2afc6ce6-f114-413b-9114-06d90297c504",
   "metadata": {},
   "outputs": [
    {
     "name": "stdout",
     "output_type": "stream",
     "text": [
      "<class 'pandas.core.frame.DataFrame'>\n",
      "Index: 172823 entries, aa to zyzzyvas\n",
      "Data columns (total 2 columns):\n",
      " #   Column      Non-Null Count   Dtype\n",
      "---  ------      --------------   -----\n",
      " 0   char_count  172823 non-null  int64\n",
      " 1   Value       172823 non-null  int64\n",
      "dtypes: int64(2)\n",
      "memory usage: 4.0+ MB\n"
     ]
    }
   ],
   "source": [
    "df.info() # concise overview of the dataset"
   ]
  },
  {
   "cell_type": "code",
   "execution_count": 13,
   "id": "1f87ac8b-40c0-4f75-b47c-b6532a6e0fd7",
   "metadata": {},
   "outputs": [
    {
     "data": {
      "text/plain": [
       "345646"
      ]
     },
     "execution_count": 13,
     "metadata": {},
     "output_type": "execute_result"
    }
   ],
   "source": [
    "df.size # gives me the total number of elements = cells, i.e. rows * cols"
   ]
  },
  {
   "cell_type": "code",
   "execution_count": 14,
   "id": "7a745a2e-5f1f-4a2f-9d98-36c28dcca827",
   "metadata": {},
   "outputs": [
    {
     "data": {
      "text/plain": [
       "(172823, 2)"
      ]
     },
     "execution_count": 14,
     "metadata": {},
     "output_type": "execute_result"
    }
   ],
   "source": [
    "df.shape #gives me no. rows, no. cols"
   ]
  },
  {
   "cell_type": "markdown",
   "id": "0a0df218-71fc-4154-af21-31586f870907",
   "metadata": {},
   "source": [
    "### What is the value of the word `microspectrophotometry`?"
   ]
  },
  {
   "cell_type": "code",
   "execution_count": 16,
   "id": "cd900e5e-1625-4c63-a7ae-2498db7dd60c",
   "metadata": {},
   "outputs": [
    {
     "data": {
      "text/plain": [
       "317"
      ]
     },
     "execution_count": 16,
     "metadata": {},
     "output_type": "execute_result"
    }
   ],
   "source": [
    "# takes the index value as an argument, and then the column from which the row value should be fetched from.\n",
    "df.loc[\"microspectrophotometries\", \"Value\"] \n",
    "# Access a group of rows and columns by label(s) or a boolean array."
   ]
  },
  {
   "cell_type": "code",
   "execution_count": 17,
   "id": "20d51100-cb0d-4879-be07-2b81f0621339",
   "metadata": {},
   "outputs": [
    {
     "data": {
      "text/html": [
       "<div>\n",
       "<style scoped>\n",
       "    .dataframe tbody tr th:only-of-type {\n",
       "        vertical-align: middle;\n",
       "    }\n",
       "\n",
       "    .dataframe tbody tr th {\n",
       "        vertical-align: top;\n",
       "    }\n",
       "\n",
       "    .dataframe thead th {\n",
       "        text-align: right;\n",
       "    }\n",
       "</style>\n",
       "<table border=\"1\" class=\"dataframe\">\n",
       "  <thead>\n",
       "    <tr style=\"text-align: right;\">\n",
       "      <th></th>\n",
       "      <th>char_count</th>\n",
       "      <th>Value</th>\n",
       "    </tr>\n",
       "    <tr>\n",
       "      <th>Word</th>\n",
       "      <th></th>\n",
       "      <th></th>\n",
       "    </tr>\n",
       "  </thead>\n",
       "  <tbody>\n",
       "    <tr>\n",
       "      <th>pinfish</th>\n",
       "      <td>7</td>\n",
       "      <td>81</td>\n",
       "    </tr>\n",
       "    <tr>\n",
       "      <th>glowing</th>\n",
       "      <td>7</td>\n",
       "      <td>87</td>\n",
       "    </tr>\n",
       "  </tbody>\n",
       "</table>\n",
       "</div>"
      ],
      "text/plain": [
       "         char_count  Value\n",
       "Word                      \n",
       "pinfish           7     81\n",
       "glowing           7     87"
      ]
     },
     "execution_count": 17,
     "metadata": {},
     "output_type": "execute_result"
    }
   ],
   "source": [
    "# Also, loc can also take lists as inputs (in the index).\n",
    "df.loc[[\"pinfish\",\"glowing\"]]"
   ]
  },
  {
   "cell_type": "markdown",
   "id": "6ca3212c-919e-4a9f-a843-a5edf9428be1",
   "metadata": {},
   "source": [
    "### What is the highest possible value of a word? And some other long words"
   ]
  },
  {
   "cell_type": "code",
   "execution_count": 19,
   "id": "ded29d18-c9f4-42dd-a6ed-96f3b35a7e4e",
   "metadata": {},
   "outputs": [
    {
     "data": {
      "text/plain": [
       "319"
      ]
     },
     "execution_count": 19,
     "metadata": {},
     "output_type": "execute_result"
    }
   ],
   "source": [
    "df.max()\n",
    "df[\"Value\"].max()"
   ]
  },
  {
   "cell_type": "code",
   "execution_count": 20,
   "id": "bd97f3ea-471e-4c65-9520-95eac74444c1",
   "metadata": {},
   "outputs": [
    {
     "data": {
      "text/html": [
       "<div>\n",
       "<style scoped>\n",
       "    .dataframe tbody tr th:only-of-type {\n",
       "        vertical-align: middle;\n",
       "    }\n",
       "\n",
       "    .dataframe tbody tr th {\n",
       "        vertical-align: top;\n",
       "    }\n",
       "\n",
       "    .dataframe thead th {\n",
       "        text-align: right;\n",
       "    }\n",
       "</style>\n",
       "<table border=\"1\" class=\"dataframe\">\n",
       "  <thead>\n",
       "    <tr style=\"text-align: right;\">\n",
       "      <th></th>\n",
       "      <th>char_count</th>\n",
       "      <th>Value</th>\n",
       "    </tr>\n",
       "    <tr>\n",
       "      <th>Word</th>\n",
       "      <th></th>\n",
       "      <th></th>\n",
       "    </tr>\n",
       "  </thead>\n",
       "  <tbody>\n",
       "    <tr>\n",
       "      <th>reinstitutionalizations</th>\n",
       "      <td>23</td>\n",
       "      <td>319</td>\n",
       "    </tr>\n",
       "  </tbody>\n",
       "</table>\n",
       "</div>"
      ],
      "text/plain": [
       "                         char_count  Value\n",
       "Word                                      \n",
       "reinstitutionalizations          23    319"
      ]
     },
     "execution_count": 20,
     "metadata": {},
     "output_type": "execute_result"
    }
   ],
   "source": [
    "# Accessing data based on a specific criteria, i.e. value of Value exactly 319.\n",
    "df[df[\"Value\"]==319]\n",
    "\n",
    "# or\n",
    "df.loc[df[\"Value\"]==319]"
   ]
  },
  {
   "cell_type": "code",
   "execution_count": 21,
   "id": "4b2b688d-b22c-4411-8b1d-54db79529e46",
   "metadata": {},
   "outputs": [
    {
     "data": {
      "text/html": [
       "<div>\n",
       "<style scoped>\n",
       "    .dataframe tbody tr th:only-of-type {\n",
       "        vertical-align: middle;\n",
       "    }\n",
       "\n",
       "    .dataframe tbody tr th {\n",
       "        vertical-align: top;\n",
       "    }\n",
       "\n",
       "    .dataframe thead th {\n",
       "        text-align: right;\n",
       "    }\n",
       "</style>\n",
       "<table border=\"1\" class=\"dataframe\">\n",
       "  <thead>\n",
       "    <tr style=\"text-align: right;\">\n",
       "      <th></th>\n",
       "      <th>char_count</th>\n",
       "      <th>Value</th>\n",
       "    </tr>\n",
       "    <tr>\n",
       "      <th>Word</th>\n",
       "      <th></th>\n",
       "      <th></th>\n",
       "    </tr>\n",
       "  </thead>\n",
       "  <tbody>\n",
       "    <tr>\n",
       "      <th>constitutionalizations</th>\n",
       "      <td>22</td>\n",
       "      <td>305</td>\n",
       "    </tr>\n",
       "    <tr>\n",
       "      <th>deinstitutionalizations</th>\n",
       "      <td>23</td>\n",
       "      <td>305</td>\n",
       "    </tr>\n",
       "    <tr>\n",
       "      <th>immunoelectrophoretically</th>\n",
       "      <td>25</td>\n",
       "      <td>307</td>\n",
       "    </tr>\n",
       "    <tr>\n",
       "      <th>intersubstitutabilities</th>\n",
       "      <td>23</td>\n",
       "      <td>303</td>\n",
       "    </tr>\n",
       "    <tr>\n",
       "      <th>microspectrophotometers</th>\n",
       "      <td>23</td>\n",
       "      <td>308</td>\n",
       "    </tr>\n",
       "    <tr>\n",
       "      <th>microspectrophotometries</th>\n",
       "      <td>24</td>\n",
       "      <td>317</td>\n",
       "    </tr>\n",
       "    <tr>\n",
       "      <th>microspectrophotometry</th>\n",
       "      <td>22</td>\n",
       "      <td>309</td>\n",
       "    </tr>\n",
       "    <tr>\n",
       "      <th>otorhinolaryngologists</th>\n",
       "      <td>22</td>\n",
       "      <td>307</td>\n",
       "    </tr>\n",
       "    <tr>\n",
       "      <th>overintellectualizations</th>\n",
       "      <td>24</td>\n",
       "      <td>307</td>\n",
       "    </tr>\n",
       "    <tr>\n",
       "      <th>photophosphorylations</th>\n",
       "      <td>21</td>\n",
       "      <td>304</td>\n",
       "    </tr>\n",
       "    <tr>\n",
       "      <th>reinstitutionalization</th>\n",
       "      <td>22</td>\n",
       "      <td>300</td>\n",
       "    </tr>\n",
       "  </tbody>\n",
       "</table>\n",
       "</div>"
      ],
      "text/plain": [
       "                           char_count  Value\n",
       "Word                                        \n",
       "constitutionalizations             22    305\n",
       "deinstitutionalizations            23    305\n",
       "immunoelectrophoretically          25    307\n",
       "intersubstitutabilities            23    303\n",
       "microspectrophotometers            23    308\n",
       "microspectrophotometries           24    317\n",
       "microspectrophotometry             22    309\n",
       "otorhinolaryngologists             22    307\n",
       "overintellectualizations           24    307\n",
       "photophosphorylations              21    304\n",
       "reinstitutionalization             22    300"
      ]
     },
     "execution_count": 21,
     "metadata": {},
     "output_type": "execute_result"
    }
   ],
   "source": [
    "# Same, but with multiple conditions\n",
    "df[(df[\"Value\"] < 319) & (df[\"Value\"] >= 300)]"
   ]
  },
  {
   "cell_type": "code",
   "execution_count": 22,
   "id": "8d661a39-6494-4615-82ca-11b6fcbd3662",
   "metadata": {},
   "outputs": [
    {
     "data": {
      "text/html": [
       "<div>\n",
       "<style scoped>\n",
       "    .dataframe tbody tr th:only-of-type {\n",
       "        vertical-align: middle;\n",
       "    }\n",
       "\n",
       "    .dataframe tbody tr th {\n",
       "        vertical-align: top;\n",
       "    }\n",
       "\n",
       "    .dataframe thead th {\n",
       "        text-align: right;\n",
       "    }\n",
       "</style>\n",
       "<table border=\"1\" class=\"dataframe\">\n",
       "  <thead>\n",
       "    <tr style=\"text-align: right;\">\n",
       "      <th></th>\n",
       "      <th>char_count</th>\n",
       "      <th>Value</th>\n",
       "    </tr>\n",
       "  </thead>\n",
       "  <tbody>\n",
       "    <tr>\n",
       "      <th>count</th>\n",
       "      <td>172823.000000</td>\n",
       "      <td>172823.000000</td>\n",
       "    </tr>\n",
       "    <tr>\n",
       "      <th>mean</th>\n",
       "      <td>9.087564</td>\n",
       "      <td>107.753441</td>\n",
       "    </tr>\n",
       "    <tr>\n",
       "      <th>std</th>\n",
       "      <td>2.818334</td>\n",
       "      <td>39.317855</td>\n",
       "    </tr>\n",
       "    <tr>\n",
       "      <th>min</th>\n",
       "      <td>2.000000</td>\n",
       "      <td>2.000000</td>\n",
       "    </tr>\n",
       "    <tr>\n",
       "      <th>25%</th>\n",
       "      <td>7.000000</td>\n",
       "      <td>80.000000</td>\n",
       "    </tr>\n",
       "    <tr>\n",
       "      <th>50%</th>\n",
       "      <td>9.000000</td>\n",
       "      <td>103.000000</td>\n",
       "    </tr>\n",
       "    <tr>\n",
       "      <th>75%</th>\n",
       "      <td>11.000000</td>\n",
       "      <td>131.000000</td>\n",
       "    </tr>\n",
       "    <tr>\n",
       "      <th>max</th>\n",
       "      <td>28.000000</td>\n",
       "      <td>319.000000</td>\n",
       "    </tr>\n",
       "  </tbody>\n",
       "</table>\n",
       "</div>"
      ],
      "text/plain": [
       "          char_count          Value\n",
       "count  172823.000000  172823.000000\n",
       "mean        9.087564     107.753441\n",
       "std         2.818334      39.317855\n",
       "min         2.000000       2.000000\n",
       "25%         7.000000      80.000000\n",
       "50%         9.000000     103.000000\n",
       "75%        11.000000     131.000000\n",
       "max        28.000000     319.000000"
      ]
     },
     "execution_count": 22,
     "metadata": {},
     "output_type": "execute_result"
    }
   ],
   "source": [
    "# the describe method gives summary statistics for all the numerical columns in the df\n",
    "df.describe()"
   ]
  },
  {
   "cell_type": "code",
   "execution_count": 23,
   "id": "017c52a0-5847-4d7e-bf16-3848afc7f2ac",
   "metadata": {},
   "outputs": [
    {
     "data": {
      "text/html": [
       "<div>\n",
       "<style scoped>\n",
       "    .dataframe tbody tr th:only-of-type {\n",
       "        vertical-align: middle;\n",
       "    }\n",
       "\n",
       "    .dataframe tbody tr th {\n",
       "        vertical-align: top;\n",
       "    }\n",
       "\n",
       "    .dataframe thead th {\n",
       "        text-align: right;\n",
       "    }\n",
       "</style>\n",
       "<table border=\"1\" class=\"dataframe\">\n",
       "  <thead>\n",
       "    <tr style=\"text-align: right;\">\n",
       "      <th></th>\n",
       "      <th>char_count</th>\n",
       "      <th>Value</th>\n",
       "    </tr>\n",
       "    <tr>\n",
       "      <th>Word</th>\n",
       "      <th></th>\n",
       "      <th></th>\n",
       "    </tr>\n",
       "  </thead>\n",
       "  <tbody>\n",
       "    <tr>\n",
       "      <th>ethylenediaminetetraacetates</th>\n",
       "      <td>28</td>\n",
       "      <td>287</td>\n",
       "    </tr>\n",
       "  </tbody>\n",
       "</table>\n",
       "</div>"
      ],
      "text/plain": [
       "                              char_count  Value\n",
       "Word                                           \n",
       "ethylenediaminetetraacetates          28    287"
      ]
     },
     "execution_count": 23,
     "metadata": {},
     "output_type": "execute_result"
    }
   ],
   "source": [
    "df[df[\"char_count\"]==28] # longest word in the list!"
   ]
  },
  {
   "cell_type": "code",
   "execution_count": 46,
   "id": "483bc520-13fb-4e0c-85b3-f255224e914c",
   "metadata": {},
   "outputs": [
    {
     "data": {
      "text/plain": [
       "0    93\n",
       "Name: Value, dtype: int64"
      ]
     },
     "execution_count": 46,
     "metadata": {},
     "output_type": "execute_result"
    }
   ],
   "source": [
    "df[\"Value\"].mode() # to calculate the mode value for column Value"
   ]
  },
  {
   "cell_type": "code",
   "execution_count": 52,
   "id": "394915e1-377e-461d-8e63-686819b356ae",
   "metadata": {},
   "outputs": [
    {
     "data": {
      "text/plain": [
       "Value\n",
       "93     1965\n",
       "100    1921\n",
       "95     1915\n",
       "99     1907\n",
       "92     1902\n",
       "       ... \n",
       "287       1\n",
       "291       1\n",
       "294       1\n",
       "5         1\n",
       "278       1\n",
       "Name: count, Length: 303, dtype: int64"
      ]
     },
     "execution_count": 52,
     "metadata": {},
     "output_type": "execute_result"
    }
   ],
   "source": [
    "df[\"Value\"].value_counts() \n",
    "# gives me the head and tail of the value counts. There are 1965 rows that have 93 as Value.\n",
    "# Add .head() or .tail() depending on whether you want the topN or bottomN values."
   ]
  },
  {
   "cell_type": "code",
   "execution_count": 154,
   "id": "3040c02c-f214-4ff4-97dc-e5b10ffe99f1",
   "metadata": {},
   "outputs": [
    {
     "data": {
      "text/html": [
       "<div>\n",
       "<style scoped>\n",
       "    .dataframe tbody tr th:only-of-type {\n",
       "        vertical-align: middle;\n",
       "    }\n",
       "\n",
       "    .dataframe tbody tr th {\n",
       "        vertical-align: top;\n",
       "    }\n",
       "\n",
       "    .dataframe thead th {\n",
       "        text-align: right;\n",
       "    }\n",
       "</style>\n",
       "<table border=\"1\" class=\"dataframe\">\n",
       "  <thead>\n",
       "    <tr style=\"text-align: right;\">\n",
       "      <th></th>\n",
       "      <th>char_count</th>\n",
       "      <th>Value</th>\n",
       "      <th>value_ratio</th>\n",
       "    </tr>\n",
       "    <tr>\n",
       "      <th>Word</th>\n",
       "      <th></th>\n",
       "      <th></th>\n",
       "      <th></th>\n",
       "    </tr>\n",
       "  </thead>\n",
       "  <tbody>\n",
       "    <tr>\n",
       "      <th>overprotectivenesses</th>\n",
       "      <td>20</td>\n",
       "      <td>274</td>\n",
       "      <td>13.700000</td>\n",
       "    </tr>\n",
       "    <tr>\n",
       "      <th>countercountermeasure</th>\n",
       "      <td>21</td>\n",
       "      <td>274</td>\n",
       "      <td>13.047619</td>\n",
       "    </tr>\n",
       "    <tr>\n",
       "      <th>psychophysiologically</th>\n",
       "      <td>21</td>\n",
       "      <td>274</td>\n",
       "      <td>13.047619</td>\n",
       "    </tr>\n",
       "  </tbody>\n",
       "</table>\n",
       "</div>"
      ],
      "text/plain": [
       "                       char_count  Value  value_ratio\n",
       "Word                                                 \n",
       "overprotectivenesses           20    274    13.700000\n",
       "countercountermeasure          21    274    13.047619\n",
       "psychophysiologically          21    274    13.047619"
      ]
     },
     "execution_count": 154,
     "metadata": {},
     "output_type": "execute_result"
    }
   ],
   "source": [
    "df.loc[df[\"Value\"]==274].sort_values(by=\"char_count\") # filter and then sort, sequencing the operations with the dots"
   ]
  },
  {
   "cell_type": "code",
   "execution_count": 156,
   "id": "a5279e91-df15-425a-9cad-6c356ff6163c",
   "metadata": {},
   "outputs": [
    {
     "data": {
      "text/html": [
       "<div>\n",
       "<style scoped>\n",
       "    .dataframe tbody tr th:only-of-type {\n",
       "        vertical-align: middle;\n",
       "    }\n",
       "\n",
       "    .dataframe tbody tr th {\n",
       "        vertical-align: top;\n",
       "    }\n",
       "\n",
       "    .dataframe thead th {\n",
       "        text-align: right;\n",
       "    }\n",
       "</style>\n",
       "<table border=\"1\" class=\"dataframe\">\n",
       "  <thead>\n",
       "    <tr style=\"text-align: right;\">\n",
       "      <th></th>\n",
       "      <th>char_count</th>\n",
       "      <th>Value</th>\n",
       "      <th>value_ratio</th>\n",
       "    </tr>\n",
       "    <tr>\n",
       "      <th>Word</th>\n",
       "      <th></th>\n",
       "      <th></th>\n",
       "      <th></th>\n",
       "    </tr>\n",
       "  </thead>\n",
       "  <tbody>\n",
       "    <tr>\n",
       "      <th>overprotectivenesses</th>\n",
       "      <td>20</td>\n",
       "      <td>274</td>\n",
       "      <td>13.7</td>\n",
       "    </tr>\n",
       "  </tbody>\n",
       "</table>\n",
       "</div>"
      ],
      "text/plain": [
       "                      char_count  Value  value_ratio\n",
       "Word                                                \n",
       "overprotectivenesses          20    274         13.7"
      ]
     },
     "execution_count": 156,
     "metadata": {},
     "output_type": "execute_result"
    }
   ],
   "source": [
    "# alternative method, a bit more dynamic and to fulfil the request more reliably\n",
    "df.loc[\n",
    "    (df[\"Value\"] == 274) &\n",
    "    (df[\"char_count\"] == df.loc[df[\"Value\"]==274, \"char_count\"].min())\n",
    "]"
   ]
  },
  {
   "cell_type": "markdown",
   "id": "aa464969-bf86-4ee5-b243-1b784c0f2ad8",
   "metadata": {},
   "source": [
    "### Create a column ratio which represents the value ratio of a word\n",
    "Defined as the value divided by the word's length."
   ]
  },
  {
   "cell_type": "code",
   "execution_count": 128,
   "id": "b6c183d6-bae7-406a-bd3c-6363034b8a70",
   "metadata": {},
   "outputs": [],
   "source": [
    "df[\"value_ratio\"] = df[\"Value\"] / df[\"char_count\"]"
   ]
  },
  {
   "cell_type": "code",
   "execution_count": 134,
   "id": "25cd03a3-d7ef-4b75-a0a0-080e040f9bb0",
   "metadata": {},
   "outputs": [
    {
     "data": {
      "text/html": [
       "<div>\n",
       "<style scoped>\n",
       "    .dataframe tbody tr th:only-of-type {\n",
       "        vertical-align: middle;\n",
       "    }\n",
       "\n",
       "    .dataframe tbody tr th {\n",
       "        vertical-align: top;\n",
       "    }\n",
       "\n",
       "    .dataframe thead th {\n",
       "        text-align: right;\n",
       "    }\n",
       "</style>\n",
       "<table border=\"1\" class=\"dataframe\">\n",
       "  <thead>\n",
       "    <tr style=\"text-align: right;\">\n",
       "      <th></th>\n",
       "      <th>char_count</th>\n",
       "      <th>Value</th>\n",
       "      <th>value_ratio</th>\n",
       "    </tr>\n",
       "    <tr>\n",
       "      <th>Word</th>\n",
       "      <th></th>\n",
       "      <th></th>\n",
       "      <th></th>\n",
       "    </tr>\n",
       "  </thead>\n",
       "  <tbody>\n",
       "    <tr>\n",
       "      <th>aa</th>\n",
       "      <td>2</td>\n",
       "      <td>2</td>\n",
       "      <td>1.000000</td>\n",
       "    </tr>\n",
       "    <tr>\n",
       "      <th>aah</th>\n",
       "      <td>3</td>\n",
       "      <td>10</td>\n",
       "      <td>3.333333</td>\n",
       "    </tr>\n",
       "    <tr>\n",
       "      <th>aahed</th>\n",
       "      <td>5</td>\n",
       "      <td>19</td>\n",
       "      <td>3.800000</td>\n",
       "    </tr>\n",
       "    <tr>\n",
       "      <th>aahing</th>\n",
       "      <td>6</td>\n",
       "      <td>40</td>\n",
       "      <td>6.666667</td>\n",
       "    </tr>\n",
       "    <tr>\n",
       "      <th>aahs</th>\n",
       "      <td>4</td>\n",
       "      <td>29</td>\n",
       "      <td>7.250000</td>\n",
       "    </tr>\n",
       "  </tbody>\n",
       "</table>\n",
       "</div>"
      ],
      "text/plain": [
       "        char_count  Value  value_ratio\n",
       "Word                                  \n",
       "aa               2      2     1.000000\n",
       "aah              3     10     3.333333\n",
       "aahed            5     19     3.800000\n",
       "aahing           6     40     6.666667\n",
       "aahs             4     29     7.250000"
      ]
     },
     "execution_count": 134,
     "metadata": {},
     "output_type": "execute_result"
    }
   ],
   "source": [
    "df.head()"
   ]
  },
  {
   "cell_type": "code",
   "execution_count": 138,
   "id": "d5895ade-58db-4829-b706-819be33deb10",
   "metadata": {},
   "outputs": [
    {
     "data": {
      "text/plain": [
       "count    172823.000000\n",
       "mean         11.825118\n",
       "std           2.205681\n",
       "min           1.000000\n",
       "25%          10.400000\n",
       "50%          11.875000\n",
       "75%          13.285714\n",
       "max          22.500000\n",
       "Name: value_ratio, dtype: float64"
      ]
     },
     "execution_count": 138,
     "metadata": {},
     "output_type": "execute_result"
    }
   ],
   "source": [
    "df[\"value_ratio\"].describe()"
   ]
  },
  {
   "cell_type": "code",
   "execution_count": 158,
   "id": "4251f8e0-5bb5-43e2-9302-f079475cb951",
   "metadata": {},
   "outputs": [
    {
     "data": {
      "text/html": [
       "<div>\n",
       "<style scoped>\n",
       "    .dataframe tbody tr th:only-of-type {\n",
       "        vertical-align: middle;\n",
       "    }\n",
       "\n",
       "    .dataframe tbody tr th {\n",
       "        vertical-align: top;\n",
       "    }\n",
       "\n",
       "    .dataframe thead th {\n",
       "        text-align: right;\n",
       "    }\n",
       "</style>\n",
       "<table border=\"1\" class=\"dataframe\">\n",
       "  <thead>\n",
       "    <tr style=\"text-align: right;\">\n",
       "      <th></th>\n",
       "      <th>char_count</th>\n",
       "      <th>Value</th>\n",
       "      <th>value_ratio</th>\n",
       "    </tr>\n",
       "    <tr>\n",
       "      <th>Word</th>\n",
       "      <th></th>\n",
       "      <th></th>\n",
       "      <th></th>\n",
       "    </tr>\n",
       "  </thead>\n",
       "  <tbody>\n",
       "    <tr>\n",
       "      <th>xu</th>\n",
       "      <td>2</td>\n",
       "      <td>45</td>\n",
       "      <td>22.5</td>\n",
       "    </tr>\n",
       "  </tbody>\n",
       "</table>\n",
       "</div>"
      ],
      "text/plain": [
       "      char_count  Value  value_ratio\n",
       "Word                                \n",
       "xu             2     45         22.5"
      ]
     },
     "execution_count": 158,
     "metadata": {},
     "output_type": "execute_result"
    }
   ],
   "source": [
    "# word with the highest value_ratio?\n",
    "df.loc[\n",
    "    df[\"value_ratio\"] == df[\"value_ratio\"].max()\n",
    "]\n",
    "# what this is doing: locate the index (word) where\n",
    "# the value_ratio column is equal to the \n",
    "# maximum value of the value_ratio column"
   ]
  },
  {
   "cell_type": "code",
   "execution_count": 192,
   "id": "83f158c7-def7-4dd0-9e63-c4880c7f16ba",
   "metadata": {},
   "outputs": [
    {
     "data": {
      "text/plain": [
       "(2604, 3)"
      ]
     },
     "execution_count": 192,
     "metadata": {},
     "output_type": "execute_result"
    }
   ],
   "source": [
    "# how many words have value_ratio of 10?\n",
    "len(df[df[\"value_ratio\"] == 10]) # gives me the answer straight away.\n",
    "df.loc[df[\"value_ratio\"]==10].shape # gives me the answer too, but from a different angle"
   ]
  },
  {
   "cell_type": "code",
   "execution_count": 198,
   "id": "0c60a363-54b7-4f44-87c7-7977464c8d80",
   "metadata": {},
   "outputs": [
    {
     "data": {
      "text/plain": [
       "(2604, 3)"
      ]
     },
     "execution_count": 198,
     "metadata": {},
     "output_type": "execute_result"
    }
   ],
   "source": [
    "# the query method allows you to write a query-like statement in almost-plain English.\n",
    "# usable for very simple conditions, but probably difficult to use for more complicated ones.\n",
    "df.query(\"value_ratio == 10\").shape"
   ]
  },
  {
   "cell_type": "code",
   "execution_count": 202,
   "id": "49eba443-a17a-4caa-ab66-c5e5c35b6a46",
   "metadata": {},
   "outputs": [
    {
     "data": {
      "text/plain": [
       "240"
      ]
     },
     "execution_count": 202,
     "metadata": {},
     "output_type": "execute_result"
    }
   ],
   "source": [
    "# what is the max value of all the words with a value_ratio of 10?\n",
    "df.loc[df[\"value_ratio\"]==10].sort_values(by=\"Value\", ascending=False).head()\n",
    "\n",
    "# or\n",
    "df.loc[df[\"value_ratio\"]==10, \"Value\"].max() # gives the direct result "
   ]
  },
  {
   "cell_type": "code",
   "execution_count": 212,
   "id": "3ef6599f-0256-4312-91e3-90f618ae59a3",
   "metadata": {},
   "outputs": [
    {
     "data": {
      "text/html": [
       "<div>\n",
       "<style scoped>\n",
       "    .dataframe tbody tr th:only-of-type {\n",
       "        vertical-align: middle;\n",
       "    }\n",
       "\n",
       "    .dataframe tbody tr th {\n",
       "        vertical-align: top;\n",
       "    }\n",
       "\n",
       "    .dataframe thead th {\n",
       "        text-align: right;\n",
       "    }\n",
       "</style>\n",
       "<table border=\"1\" class=\"dataframe\">\n",
       "  <thead>\n",
       "    <tr style=\"text-align: right;\">\n",
       "      <th></th>\n",
       "      <th>char_count</th>\n",
       "      <th>Value</th>\n",
       "      <th>value_ratio</th>\n",
       "    </tr>\n",
       "    <tr>\n",
       "      <th>Word</th>\n",
       "      <th></th>\n",
       "      <th></th>\n",
       "      <th></th>\n",
       "    </tr>\n",
       "  </thead>\n",
       "  <tbody>\n",
       "    <tr>\n",
       "      <th>hydroxytryptamine</th>\n",
       "      <td>17</td>\n",
       "      <td>260</td>\n",
       "      <td>15.294118</td>\n",
       "    </tr>\n",
       "  </tbody>\n",
       "</table>\n",
       "</div>"
      ],
      "text/plain": [
       "                   char_count  Value  value_ratio\n",
       "Word                                             \n",
       "hydroxytryptamine          17    260    15.294118"
      ]
     },
     "execution_count": 212,
     "metadata": {},
     "output_type": "execute_result"
    }
   ],
   "source": [
    "# of the words with a value of 260, what is the lowest char_count found?\n",
    "df.loc[df[\"Value\"] == 260, \"char_count\"].min()\n",
    "\n",
    "# and if I want to see the word, too\n",
    "df.loc[\n",
    "    (df[\"Value\"] == 260) & \n",
    "    (df[\"char_count\"] == df.loc[df[\"Value\"] == 260, \"char_count\"].min())\n",
    "]"
   ]
  },
  {
   "cell_type": "code",
   "execution_count": null,
   "id": "6f866e53-6418-4a98-961b-3694bae98a2c",
   "metadata": {},
   "outputs": [],
   "source": []
  }
 ],
 "metadata": {
  "kernelspec": {
   "display_name": "Python 3 (ipykernel)",
   "language": "python",
   "name": "python3"
  },
  "language_info": {
   "codemirror_mode": {
    "name": "ipython",
    "version": 3
   },
   "file_extension": ".py",
   "mimetype": "text/x-python",
   "name": "python",
   "nbconvert_exporter": "python",
   "pygments_lexer": "ipython3",
   "version": "3.12.4"
  }
 },
 "nbformat": 4,
 "nbformat_minor": 5
}
